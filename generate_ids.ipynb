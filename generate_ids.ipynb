{
 "cells": [
  {
   "cell_type": "code",
   "execution_count": 24,
   "metadata": {},
   "outputs": [],
   "source": [
    "from nltk.corpus import wordnet as wn\n",
    "import nltk\n",
    "import csv\n",
    "import time\n",
    "import random"
   ]
  },
  {
   "cell_type": "markdown",
   "metadata": {},
   "source": [
    "### 1. Download wordnet and files with class names of ImageNet-(2)1k "
   ]
  },
  {
   "cell_type": "code",
   "execution_count": 5,
   "metadata": {},
   "outputs": [
    {
     "name": "stderr",
     "output_type": "stream",
     "text": [
      "[nltk_data] Downloading package wordnet to\n",
      "[nltk_data]     C:\\Users\\mathe\\AppData\\Roaming\\nltk_data...\n",
      "[nltk_data]   Package wordnet is already up-to-date!\n"
     ]
    }
   ],
   "source": [
    "_ = nltk.download('wordnet')"
   ]
  },
  {
   "cell_type": "markdown",
   "metadata": {},
   "source": [
    "Read ids of classes in ImageNet-21k and ImageNet-1k."
   ]
  },
  {
   "cell_type": "code",
   "execution_count": 23,
   "metadata": {},
   "outputs": [],
   "source": [
    "# Read synset ids and names of classes in ImageNet-21k\n",
    "synset_ids_21k = []\n",
    "class_names_21k = []\n",
    "with open('res/classes_in_imagenet_21k.csv', newline='') as csvfile:\n",
    "    csv_reader = csv.reader(csvfile)\n",
    "    next(csv_reader) # skip first line\n",
    "    for row in csv_reader:\n",
    "        synset_ids_21k.append(row[0])  # e.g. 'n00004475'\n",
    "        class_names_21k.append(row[1].replace(' ', '_')) # e.g. 'organism'"
   ]
  },
  {
   "cell_type": "code",
   "execution_count": 7,
   "metadata": {},
   "outputs": [],
   "source": [
    "# Read synset ids and names of classes in ImageNet-1k\n",
    "synset_ids_1k = []\n",
    "class_names_1k = []\n",
    "with open('res/classes_in_imagenet_1k.csv', newline='') as csvfile:\n",
    "    csv_reader = csv.reader(csvfile)\n",
    "    i = 0\n",
    "    for row in csv_reader:\n",
    "        class_id = row[0].split(':')[0]\n",
    "        synset_ids_1k.append(class_id)\n",
    "        class_name = row[0].split(':')[1].split(',')[0].replace(' ', '_')[1:]\n",
    "        class_names_1k.append(class_name)"
   ]
  },
  {
   "cell_type": "markdown",
   "metadata": {},
   "source": [
    "### 2. Generate synset_ids for out-of-distribution classes "
   ]
  },
  {
   "cell_type": "code",
   "execution_count": 10,
   "metadata": {},
   "outputs": [],
   "source": [
    "def is_far_from_1k(category, class_names_1k, thresh=0.5):\n",
    "    #print('Checking if {} is far from ImageNet-1k'.format(category))\n",
    "    obj1 = wn.synsets(category)[0]\n",
    "    for some_class in class_names_1k:\n",
    "        if some_class:\n",
    "            obj2 = wn.synsets(some_class)[0]\n",
    "            if obj1.path_similarity(obj2) > thresh:\n",
    "                #print('Nope')\n",
    "                return False\n",
    "    #print('Yes!')\n",
    "    return True"
   ]
  },
  {
   "cell_type": "markdown",
   "metadata": {},
   "source": [
    "Generate random synset_ids from synset_ids_21k which are not in synset_ids_1k and with minimum path distance to all 1k classes in ImageNet-1k."
   ]
  },
  {
   "cell_type": "code",
   "execution_count": 12,
   "metadata": {},
   "outputs": [
    {
     "name": "stdout",
     "output_type": "stream",
     "text": [
      "Done generating 200 OOD classes after 82.37 seconds!\n"
     ]
    }
   ],
   "source": [
    "nr_ood_classes = 200 # int(sys.argv[1])\n",
    "ood_synset_ids = []\n",
    "ood_synset_ids_str = ''\n",
    "max_id = len(synset_ids_21k)\n",
    "\n",
    "i = 0\n",
    "start = time.time()\n",
    "while i < nr_ood_classes:\n",
    "    random_idx = random.randint(0, max_id)\n",
    "    random_synset_id = synset_ids_21k[random_idx]\n",
    "    random_synset_name = class_names_21k[random_idx]\n",
    "    if random_synset_id not in synset_ids_1k and is_far_from_1k(random_synset_name, class_names_1k, thresh=0.2):\n",
    "        ood_synset_ids_str += random_synset_id + ' '\n",
    "        i += 1\n",
    "end = time.time()\n",
    "print('Done generating {} OOD classes after {:.2f} seconds!'.format(nr_ood_classes, end-start))"
   ]
  },
  {
   "cell_type": "markdown",
   "metadata": {},
   "source": [
    "### 3. Generate in-distribution (ID) synset_ids "
   ]
  },
  {
   "cell_type": "markdown",
   "metadata": {},
   "source": [
    "Generate random synset_ids from ImageNet-1k. This will be the in-distribution data used."
   ]
  },
  {
   "cell_type": "code",
   "execution_count": 13,
   "metadata": {},
   "outputs": [],
   "source": [
    "nr_id_classes = 300 #int(sys.argv[2])\n",
    "id_synset_ids_str = ''\n",
    "max_id = len(synset_ids_1k)\n",
    "\n",
    "i = 0\n",
    "while i < nr_id_classes:\n",
    "    random_synset_id = synset_ids_1k[random.randint(0, max_id)]\n",
    "    id_synset_ids_str += random_synset_id + ' '\n",
    "    i += 1"
   ]
  },
  {
   "cell_type": "code",
   "execution_count": 2,
   "metadata": {},
   "outputs": [
    {
     "name": "stdout",
     "output_type": "stream",
     "text": [
      "The similarity between ambulance and dog is: 0.07142857142857142\n",
      "The similarity between cat and dog is: 0.2\n",
      "The similarity between cat and human is: 0.14285714285714285\n"
     ]
    }
   ],
   "source": [
    "# Example of how path similarity works.\n",
    "# 1\n",
    "obj1 = wn.synsets('ambulance')[0]\n",
    "obj2 = wn.synsets('dog')[0]\n",
    "print('The similarity between {} and {} is: {}'.format('ambulance', 'dog', obj1.path_similarity(obj2)))\n",
    "# 2\n",
    "obj1 = wn.synsets('cat')[0]\n",
    "obj2 = wn.synsets('dog')[0]\n",
    "print('The similarity between {} and {} is: {}'.format('cat', 'dog', obj1.path_similarity(obj2)))\n",
    "# 3\n",
    "obj1 = wn.synsets('cat')[0]\n",
    "obj2 = wn.synsets('human')[0]\n",
    "print('The similarity between {} and {} is: {}'.format('cat', 'human', obj1.path_similarity(obj2)))"
   ]
  },
  {
   "cell_type": "code",
   "execution_count": 14,
   "metadata": {},
   "outputs": [
    {
     "data": {
      "text/plain": [
       "'n10690421 n02146201 n10185483 n03708962 n02563182 n12031388 n10696101 n13092240 n07853560 n02376542 n07852532 n02848921 n10672540 n09697401 n11722036 n03543511 n02390938 n00443231 n10387836 n03255167 n13205058 n02968333 n09830400 n10328123 n04450243 n08558770 n09445289 n00470966 n07768068 n02787120 n03982642 n01712008 n04282494 n02582721 n02765028 n01805321 n04951186 n09754217 n10382302 n02680638 n03772584 n04290259 n13158605 n01751215 n12120347 n02645538 n10265891 n03901338 n09894143 n12882158 n07574176 n03677115 n03854722 n02068541 n10015792 n01319467 n12626674 n13193856 n02814116 n03931980 n12528768 n07844786 n13154494 n12957803 n07585906 n10328328 n12166929 n10252222 n12066018 n10358124 n03020034 n03992703 n13031193 n06266710 n01324610 n10700201 n13083023 n10577710 n10366966 n12067029 n02473857 n00445226 n04553389 n10274173 n10655986 n12522678 n12674895 n10252354 n12054195 n13132486 n13148384 n07617611 n03095965 n10277638 n13906767 n12766869 n12727518 n04035912 n09466678 n03694639 n09676247 n10345659 n02433729 n12919195 n08619112 n02549376 n11730602 n13161904 n12315245 n02940570 n12051103 n01536334 n02270623 n04392113 n12278865 n12180168 n13866144 n01479213 n11985321 n03888808 n12891093 n03172965 n13193143 n12217851 n11799732 n03380647 n02772700 n03139464 n02745492 n11953038 n09664908 n13863771 n02533545 n12650038 n10739297 n02149653 n12585629 n12448136 n02784998 n09881895 n01839949 n02857907 n01888411 n10374849 n04040373 n03685307 n12509665 n07853852 n04598965 n10253479 n07727868 n07783827 n04354026 n12461466 n10228468 n03943623 n12351790 n06419354 n10498699 n01725713 n06418693 n01569262 n13050397 n07577538 n12664710 n04170933 n01915811 n08678783 n08643267 n09767197 n09981278 n04595028 n07683490 n11677485 n04970312 n03868763 n13220525 n09754152 n07847585 n10243483 n10113249 n04181083 n12033709 n12272735 n12018014 n12589687 n03816136 n10126708 n10134178 n00468299 n13880199 n09992538 n03641947 n12666965 n01964049 n12276314 n07614198 n12677612 n02519472 n10520544 '"
      ]
     },
     "execution_count": 14,
     "metadata": {},
     "output_type": "execute_result"
    }
   ],
   "source": [
    "ood_synset_ids_str"
   ]
  },
  {
   "cell_type": "code",
   "execution_count": null,
   "metadata": {},
   "outputs": [],
   "source": []
  }
 ],
 "metadata": {
  "interpreter": {
   "hash": "0050bdc898b9a679c387244c11e8057e7ae4f22360b32a2e55d1f190f6800284"
  },
  "kernelspec": {
   "display_name": "Python 3.9.2 64-bit",
   "language": "python",
   "name": "python3"
  },
  "language_info": {
   "codemirror_mode": {
    "name": "ipython",
    "version": 3
   },
   "file_extension": ".py",
   "mimetype": "text/x-python",
   "name": "python",
   "nbconvert_exporter": "python",
   "pygments_lexer": "ipython3",
   "version": "3.9.2"
  },
  "orig_nbformat": 4
 },
 "nbformat": 4,
 "nbformat_minor": 2
}
