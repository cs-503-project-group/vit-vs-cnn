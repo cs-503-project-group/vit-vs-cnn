{
 "cells": [
  {
   "cell_type": "code",
   "execution_count": 1,
   "metadata": {},
   "outputs": [],
   "source": [
    "from nltk.corpus import wordnet as wn\n",
    "import nltk\n",
    "import csv\n",
    "import time\n",
    "import random"
   ]
  },
  {
   "cell_type": "markdown",
   "metadata": {},
   "source": [
    "### 1. Download wordnet and files with class names of ImageNet-(2)1k "
   ]
  },
  {
   "cell_type": "code",
   "execution_count": 2,
   "metadata": {},
   "outputs": [
    {
     "name": "stderr",
     "output_type": "stream",
     "text": [
      "[nltk_data] Downloading package wordnet to\n",
      "[nltk_data]     C:\\Users\\mathe\\AppData\\Roaming\\nltk_data...\n",
      "[nltk_data]   Package wordnet is already up-to-date!\n"
     ]
    }
   ],
   "source": [
    "_ = nltk.download('wordnet')"
   ]
  },
  {
   "cell_type": "markdown",
   "metadata": {},
   "source": [
    "Read ids of classes in ImageNet-21k and ImageNet-1k."
   ]
  },
  {
   "cell_type": "code",
   "execution_count": 5,
   "metadata": {},
   "outputs": [],
   "source": [
    "# Read synset ids and names of classes in ImageNet-21k\n",
    "synset_ids_21k = []\n",
    "class_names_21k = []\n",
    "with open('../classes_imagenet/classes_in_imagenet_21k.csv', newline='') as csvfile:\n",
    "    csv_reader = csv.reader(csvfile)\n",
    "    next(csv_reader) # skip first line\n",
    "    for row in csv_reader:\n",
    "        synset_ids_21k.append(row[0])  # e.g. 'n00004475'\n",
    "        class_names_21k.append(row[1].replace(' ', '_')) # e.g. 'organism'"
   ]
  },
  {
   "cell_type": "code",
   "execution_count": 6,
   "metadata": {},
   "outputs": [],
   "source": [
    "# Read synset ids and names of classes in ImageNet-1k\n",
    "synset_ids_1k = []\n",
    "class_names_1k = []\n",
    "with open('../classes_imagenet/classes_in_imagenet_1k.csv', newline='') as csvfile:\n",
    "    csv_reader = csv.reader(csvfile)\n",
    "    i = 0\n",
    "    for row in csv_reader:\n",
    "        class_id = row[0].split(':')[0]\n",
    "        synset_ids_1k.append(class_id)\n",
    "        class_name = row[0].split(':')[1].split(',')[0].replace(' ', '_')[1:]\n",
    "        class_names_1k.append(class_name)"
   ]
  },
  {
   "cell_type": "markdown",
   "metadata": {},
   "source": [
    "### 2. Generate synset_ids for out-of-distribution classes "
   ]
  },
  {
   "cell_type": "code",
   "execution_count": 31,
   "metadata": {},
   "outputs": [],
   "source": [
    "def is_far_from_1k(category, class_names_1k, thresh=0.1):\n",
    "    #print('Checking if {} is far from ImageNet-1k'.format(category))\n",
    "    obj1 = wn.synsets(category)[0]\n",
    "    for some_class in class_names_1k:\n",
    "        if some_class:\n",
    "            obj2 = wn.synsets(some_class)[0]\n",
    "            #if obj1.path_similarity(obj2) > thresh: \n",
    "            if obj1.lch_similarity(obj2) > thresh:\n",
    "                #print('Nope')\n",
    "                return False\n",
    "    #print('Yes!')\n",
    "    return True"
   ]
  },
  {
   "cell_type": "markdown",
   "metadata": {},
   "source": [
    "Generate random synset_ids from synset_ids_21k which are not in synset_ids_1k and with minimum path distance to all 1k classes in ImageNet-1k."
   ]
  },
  {
   "cell_type": "code",
   "execution_count": 50,
   "metadata": {},
   "outputs": [
    {
     "name": "stdout",
     "output_type": "stream",
     "text": [
      "2000\n",
      "4000\n",
      "6000\n",
      "8000\n",
      "10000\n",
      "12000\n",
      "14000\n",
      "16000\n",
      "18000\n",
      "20000\n",
      "Done generating 20841 OOD classes after 291.15 seconds!\n"
     ]
    }
   ],
   "source": [
    "nr_ood_classes = len(synset_ids_21k) - len(synset_ids_1k) # 200 # int(sys.argv[1])\n",
    "ood_synset_ids_str = ''\n",
    "nr_ood = 0\n",
    "\n",
    "i = 0\n",
    "start = time.time()\n",
    "while i < nr_ood_classes:\n",
    "    # random_idx = random.randint(0, max_id)\n",
    "    # random_synset_id = synset_ids_21k[random_idx]\n",
    "    # random_synset_name = class_names_21k[random_idx]\n",
    "    ood_synset_id = synset_ids_21k[i]\n",
    "    ood_class_name = class_names_21k[i]\n",
    "    is_far_from_color = wn.synsets(ood_class_name)[0].lch_similarity(wn.synsets('color')[0]) < 1.5\n",
    "    if ood_synset_id not in synset_ids_1k and is_far_from_1k(ood_class_name, class_names_1k, thresh=1.5) and is_far_from_color:\n",
    "        ood_synset_ids_str += ood_synset_id + ' '\n",
    "        nr_ood += 1\n",
    "    i += 1\n",
    "    if i % 2000 == 0:\n",
    "        print(i)\n",
    "\n",
    "end = time.time()\n",
    "print('Done generating {} OOD classes after {:.2f} seconds!'.format(nr_ood_classes, end-start))"
   ]
  },
  {
   "cell_type": "code",
   "execution_count": 51,
   "metadata": {},
   "outputs": [
    {
     "data": {
      "text/plain": [
       "314"
      ]
     },
     "execution_count": 51,
     "metadata": {},
     "output_type": "execute_result"
    }
   ],
   "source": [
    "nr_ood"
   ]
  },
  {
   "cell_type": "markdown",
   "metadata": {},
   "source": [
    "### 3. Generate in-distribution (ID) synset_ids "
   ]
  },
  {
   "cell_type": "markdown",
   "metadata": {},
   "source": [
    "Generate random synset_ids from ImageNet-1k. This will be the in-distribution data used."
   ]
  },
  {
   "cell_type": "code",
   "execution_count": 13,
   "metadata": {},
   "outputs": [],
   "source": [
    "nr_id_classes = 300 #int(sys.argv[2])\n",
    "id_synset_ids_str = ''\n",
    "max_id = len(synset_ids_1k)\n",
    "\n",
    "i = 0\n",
    "while i < nr_id_classes:\n",
    "    random_synset_id = synset_ids_1k[random.randint(0, max_id)]\n",
    "    id_synset_ids_str += random_synset_id + ' '\n",
    "    i += 1"
   ]
  },
  {
   "cell_type": "code",
   "execution_count": 45,
   "metadata": {},
   "outputs": [
    {
     "data": {
      "text/plain": [
       "True"
      ]
     },
     "execution_count": 45,
     "metadata": {},
     "output_type": "execute_result"
    }
   ],
   "source": [
    "# Example of how path similarity works.\n",
    "# 1\n",
    "# obj1 = wn.synsets('color')[0]\n",
    "# obj2 = wn.synsets('french_polish')[0]\n",
    "# print('The similarity between {} and {} is: {}'.format('color', 'greenish_blue', obj1.lch_similarity(obj2)))\n",
    "wn.synsets(ood_class_name)[0].lch_similarity(wn.synsets('color')[0]) < 1.5"
   ]
  },
  {
   "cell_type": "code",
   "execution_count": 38,
   "metadata": {},
   "outputs": [
    {
     "name": "stdout",
     "output_type": "stream",
     "text": [
      "The similarity between ambulance and dog is: 0.9985288301111273\n",
      "The similarity between cat and kitty is: 0.5020919437972361\n",
      "The similarity between cat and human is: 1.6916760106710724\n",
      "The similarity between cat_food and dog_food is: 2.538973871058276\n",
      "The similarity between white_rice and rice is: 2.9444389791664407\n"
     ]
    }
   ],
   "source": [
    "# Example of how path similarity works.\n",
    "# 1\n",
    "obj1 = wn.synsets('ambulance')[0]\n",
    "obj2 = wn.synsets('dog')[0]\n",
    "print('The similarity between {} and {} is: {}'.format('ambulance', 'dog', obj1.lch_similarity(obj2)))\n",
    "# 2\n",
    "obj1 = wn.synsets('cat')[0]\n",
    "obj2 = wn.synsets('kitty')[0]\n",
    "print('The similarity between {} and {} is: {}'.format('cat', 'kitty', obj1.lch_similarity(obj2)))\n",
    "# 3\n",
    "obj1 = wn.synsets('cat')[0]\n",
    "obj2 = wn.synsets('human')[0]\n",
    "print('The similarity between {} and {} is: {}'.format('cat', 'human', obj1.lch_similarity(obj2)))\n",
    "# 4\n",
    "obj1 = wn.synsets('cat_food')[0]\n",
    "obj2 = wn.synsets('dog_food')[0]\n",
    "print('The similarity between {} and {} is: {}'.format('cat_food', 'dog_food', obj1.lch_similarity(obj2)))\n",
    "# 5\n",
    "obj1 = wn.synsets('white_rice')[0]\n",
    "obj2 = wn.synsets('rice')[0]\n",
    "print('The similarity between {} and {} is: {}'.format('white_rice', 'rice', obj1.lch_similarity(obj2)))"
   ]
  },
  {
   "cell_type": "code",
   "execution_count": 29,
   "metadata": {},
   "outputs": [
    {
     "name": "stdout",
     "output_type": "stream",
     "text": [
      "This 66 classes below have similarity of max 0.1:\n"
     ]
    },
    {
     "data": {
      "text/plain": [
       "'n01557185 n01848123 n01910252 n01915811 n02122298 n02430830 n02456962 n02708885 n02917521 n02982599 n03334912 n03349296 n03395256 n03498536 n03524976 n03566860 n03573848 n03683457 n03738472 n03846100 n03846234 n03856335 n03885194 n03901750 n04082562 n04083113 n04165675 n04368109 n04394031 n04960582 n04962062 n04963111 n04963307 n04963588 n04963740 n04964001 n04964799 n04965451 n04966941 n04967561 n04967674 n04967801 n04967882 n04968139 n04968749 n04969242 n04969540 n04969798 n04969952 n04970631 n04972801 n04973291 n04973386 n04973585 n04974145 n04976319 n04979002 n04979307 n07895435 n07914128 n10097477 n10117851 n10456696 n10498699 n11674332 n12770529 '"
      ]
     },
     "execution_count": 29,
     "metadata": {},
     "output_type": "execute_result"
    }
   ],
   "source": [
    "print(f'This {nr_ood} classes below have similarity of max 0.1:')\n",
    "ood_synset_ids_str"
   ]
  },
  {
   "cell_type": "code",
   "execution_count": 22,
   "metadata": {},
   "outputs": [
    {
     "data": {
      "text/plain": [
       "dict_values([1, 1, 1, 1, 1, 1, 1, 1, 1, 1, 1, 1, 1, 1, 1, 1, 1, 1, 1, 1, 1, 1, 1, 1, 1, 1, 1, 1, 1, 1, 1, 1, 1, 1, 1, 1, 1, 1, 1, 1, 1, 1, 1, 1, 1, 1, 1, 1, 1, 1, 1, 1, 1, 1, 1, 1, 1, 1, 1, 1, 1, 1, 1, 1, 1, 1, 1, 1, 1, 1, 1, 1, 1, 1, 1, 1, 1, 1, 1, 1, 1, 1, 1, 1, 1, 1, 1, 1, 1, 1, 1, 1, 1, 1, 1, 1, 1, 1, 1, 1, 1, 1, 1, 1, 1, 1, 1, 1, 1, 1, 1, 1, 1, 1, 1, 1, 1, 1, 1, 1, 1, 1, 1, 1, 1, 1, 1, 1, 1, 1, 1, 1, 1, 1, 1, 1, 1, 1, 1, 1, 1, 1, 1, 1, 1, 1, 1])"
      ]
     },
     "execution_count": 22,
     "metadata": {},
     "output_type": "execute_result"
    }
   ],
   "source": [
    "from collections import Counter\n",
    "test = ood_synset_ids_str.split(' ')\n",
    "\n",
    "\n",
    "Counter(test).keys() # equals to list(set(words))\n",
    "Counter(test).values()"
   ]
  }
 ],
 "metadata": {
  "interpreter": {
   "hash": "0050bdc898b9a679c387244c11e8057e7ae4f22360b32a2e55d1f190f6800284"
  },
  "kernelspec": {
   "display_name": "Python 3.9.2 64-bit",
   "language": "python",
   "name": "python3"
  },
  "language_info": {
   "codemirror_mode": {
    "name": "ipython",
    "version": 3
   },
   "file_extension": ".py",
   "mimetype": "text/x-python",
   "name": "python",
   "nbconvert_exporter": "python",
   "pygments_lexer": "ipython3",
   "version": "3.9.2"
  },
  "orig_nbformat": 4
 },
 "nbformat": 4,
 "nbformat_minor": 2
}
