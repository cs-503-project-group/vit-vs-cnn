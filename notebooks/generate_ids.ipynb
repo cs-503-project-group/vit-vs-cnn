{
 "cells": [
  {
   "cell_type": "code",
   "execution_count": 1,
   "metadata": {},
   "outputs": [],
   "source": [
    "from nltk.corpus import wordnet as wn\n",
    "import nltk\n",
    "import csv\n",
    "import time\n",
    "import random"
   ]
  },
  {
   "cell_type": "markdown",
   "metadata": {},
   "source": [
    "### 1. Download wordnet and files with class names of ImageNet-(2)1k "
   ]
  },
  {
   "cell_type": "code",
   "execution_count": 2,
   "metadata": {},
   "outputs": [
    {
     "name": "stderr",
     "output_type": "stream",
     "text": [
      "[nltk_data] Downloading package wordnet to\n",
      "[nltk_data]     C:\\Users\\mathe\\AppData\\Roaming\\nltk_data...\n",
      "[nltk_data]   Package wordnet is already up-to-date!\n"
     ]
    }
   ],
   "source": [
    "_ = nltk.download('wordnet')"
   ]
  },
  {
   "cell_type": "markdown",
   "metadata": {},
   "source": [
    "Read ids of classes in ImageNet-21k and ImageNet-1k."
   ]
  },
  {
   "cell_type": "code",
   "execution_count": 3,
   "metadata": {},
   "outputs": [],
   "source": [
    "# Read synset ids and names of classes in ImageNet-21k\n",
    "synset_ids_21k = []\n",
    "class_names_21k = []\n",
    "with open('../classes_imagenet/classes_in_imagenet_21k.csv', newline='') as csvfile:\n",
    "    csv_reader = csv.reader(csvfile)\n",
    "    next(csv_reader) # skip first line\n",
    "    for row in csv_reader:\n",
    "        synset_ids_21k.append(row[0])  # e.g. 'n00004475'\n",
    "        class_names_21k.append(row[1].replace(' ', '_')) # e.g. 'organism'"
   ]
  },
  {
   "cell_type": "code",
   "execution_count": 4,
   "metadata": {},
   "outputs": [],
   "source": [
    "# Read synset ids and names of classes in ImageNet-1k\n",
    "synset_ids_1k = []\n",
    "class_names_1k = []\n",
    "with open('../classes_imagenet/classes_in_imagenet_1k.csv', newline='') as csvfile:\n",
    "    csv_reader = csv.reader(csvfile)\n",
    "    i = 0\n",
    "    for row in csv_reader:\n",
    "        class_id = row[0].split(':')[0]\n",
    "        synset_ids_1k.append(class_id)\n",
    "        class_name = row[0].split(':')[1].split(',')[0].replace(' ', '_')[1:]\n",
    "        class_names_1k.append(class_name)"
   ]
  },
  {
   "cell_type": "markdown",
   "metadata": {},
   "source": [
    "### 2. Generate synset_ids for out-of-distribution classes "
   ]
  },
  {
   "cell_type": "code",
   "execution_count": 5,
   "metadata": {},
   "outputs": [],
   "source": [
    "def is_far_from_1k(category, class_names_1k, thresh=0.1):\n",
    "    #print('Checking if {} is far from ImageNet-1k'.format(category))\n",
    "    obj1 = wn.synsets(category)[0]\n",
    "    for some_class in class_names_1k:\n",
    "        if some_class:\n",
    "            obj2 = wn.synsets(some_class)[0]\n",
    "            #if obj1.path_similarity(obj2) > thresh: \n",
    "            if obj1.lch_similarity(obj2) > thresh:\n",
    "                #print('Nope')\n",
    "                return False\n",
    "    #print('Yes!')\n",
    "    return True"
   ]
  },
  {
   "cell_type": "markdown",
   "metadata": {},
   "source": [
    "Generate random synset_ids from synset_ids_21k which are not in synset_ids_1k and with minimum path distance to all 1k classes in ImageNet-1k."
   ]
  },
  {
   "cell_type": "code",
   "execution_count": 6,
   "metadata": {},
   "outputs": [
    {
     "name": "stdout",
     "output_type": "stream",
     "text": [
      "2000\n",
      "4000\n",
      "6000\n",
      "8000\n",
      "10000\n",
      "12000\n",
      "14000\n",
      "16000\n",
      "18000\n",
      "20000\n",
      "Done generating 110 OOD classes after 235.51 seconds!\n"
     ]
    }
   ],
   "source": [
    "nr_ood_classes = len(synset_ids_21k) - len(synset_ids_1k) # 200 # int(sys.argv[1])\n",
    "ood_synset_ids_str = ''\n",
    "nr_ood = 0\n",
    "\n",
    "i = 0\n",
    "start = time.time()\n",
    "while i < nr_ood_classes:\n",
    "    # random_idx = random.randint(0, max_id)\n",
    "    # random_synset_id = synset_ids_21k[random_idx]\n",
    "    # random_synset_name = class_names_21k[random_idx]\n",
    "    ood_synset_id = synset_ids_21k[i]\n",
    "    ood_class_name = class_names_21k[i]\n",
    "    is_far_from_color = wn.synsets(ood_class_name)[0].lch_similarity(wn.synsets('color')[0]) < 1.5\n",
    "    is_not_in_1k = ood_synset_id not in synset_ids_1k\n",
    "    if is_not_in_1k and is_far_from_color and is_far_from_1k(ood_class_name, class_names_1k, thresh=1.35):\n",
    "        ood_synset_ids_str += ood_synset_id + ' '\n",
    "        nr_ood += 1\n",
    "    i += 1\n",
    "    if i % 2000 == 0:\n",
    "        print(i)\n",
    "\n",
    "end = time.time()\n",
    "print('Done generating {} OOD classes after {:.2f} seconds!'.format(nr_ood, end-start))"
   ]
  },
  {
   "cell_type": "code",
   "execution_count": 56,
   "metadata": {},
   "outputs": [
    {
     "data": {
      "text/plain": [
       "58"
      ]
     },
     "execution_count": 56,
     "metadata": {},
     "output_type": "execute_result"
    }
   ],
   "source": [
    "nr_ood"
   ]
  },
  {
   "cell_type": "code",
   "execution_count": 45,
   "metadata": {},
   "outputs": [
    {
     "data": {
      "text/plain": [
       "True"
      ]
     },
     "execution_count": 45,
     "metadata": {},
     "output_type": "execute_result"
    }
   ],
   "source": [
    "# Example of how path similarity works.\n",
    "# 1\n",
    "# obj1 = wn.synsets('color')[0]\n",
    "# obj2 = wn.synsets('french_polish')[0]\n",
    "# print('The similarity between {} and {} is: {}'.format('color', 'greenish_blue', obj1.lch_similarity(obj2)))\n",
    "wn.synsets(ood_class_name)[0].lch_similarity(wn.synsets('color')[0]) < 1.5"
   ]
  },
  {
   "cell_type": "code",
   "execution_count": 38,
   "metadata": {},
   "outputs": [
    {
     "name": "stdout",
     "output_type": "stream",
     "text": [
      "The similarity between ambulance and dog is: 0.9985288301111273\n",
      "The similarity between cat and kitty is: 0.5020919437972361\n",
      "The similarity between cat and human is: 1.6916760106710724\n",
      "The similarity between cat_food and dog_food is: 2.538973871058276\n",
      "The similarity between white_rice and rice is: 2.9444389791664407\n"
     ]
    }
   ],
   "source": [
    "# Example of how path similarity works.\n",
    "# 1\n",
    "obj1 = wn.synsets('ambulance')[0]\n",
    "obj2 = wn.synsets('dog')[0]\n",
    "print('The similarity between {} and {} is: {}'.format('ambulance', 'dog', obj1.lch_similarity(obj2)))\n",
    "# 2\n",
    "obj1 = wn.synsets('cat')[0]\n",
    "obj2 = wn.synsets('kitty')[0]\n",
    "print('The similarity between {} and {} is: {}'.format('cat', 'kitty', obj1.lch_similarity(obj2)))\n",
    "# 3\n",
    "obj1 = wn.synsets('cat')[0]\n",
    "obj2 = wn.synsets('human')[0]\n",
    "print('The similarity between {} and {} is: {}'.format('cat', 'human', obj1.lch_similarity(obj2)))\n",
    "# 4\n",
    "obj1 = wn.synsets('cat_food')[0]\n",
    "obj2 = wn.synsets('dog_food')[0]\n",
    "print('The similarity between {} and {} is: {}'.format('cat_food', 'dog_food', obj1.lch_similarity(obj2)))\n",
    "# 5\n",
    "obj1 = wn.synsets('white_rice')[0]\n",
    "obj2 = wn.synsets('rice')[0]\n",
    "print('The similarity between {} and {} is: {}'.format('white_rice', 'rice', obj1.lch_similarity(obj2)))"
   ]
  },
  {
   "cell_type": "code",
   "execution_count": 8,
   "metadata": {},
   "outputs": [
    {
     "name": "stdout",
     "output_type": "stream",
     "text": [
      "This 110 classes below have lch similarity of max 1.35:\n"
     ]
    },
    {
     "data": {
      "text/plain": [
       "'n00443803 n00447540 n00454493 n01314388 n01334217 n01338685 n01339336 n01461315 n01481331 n01557185 n01682435 n01803893 n01888411 n01910252 n01912152 n01956344 n01997119 n02103181 n02112497 n02122298 n02456962 n02577041 n02662239 n02663849 n02741367 n02761206 n02801450 n02829596 n02878222 n02917521 n02926591 n02982599 n03011741 n03042829 n03042984 n03145522 n03297735 n03334912 n03349296 n03392648 n03410022 n03410147 n03410303 n03524976 n03573848 n03582508 n03644073 n03683457 n03684611 n03695452 n03733644 n03856335 n03901750 n03902482 n03963294 n04023249 n04072960 n04082562 n04088797 n04100519 n04170933 n04269822 n04314914 n04327204 n04363991 n04368109 n04394031 n04476831 n04476972 n04486934 n04526520 n04562496 n05453412 n05453815 n05578095 n06209940 n07596362 n07596566 n07616590 n07643981 n07728053 n07728181 n07728284 n07728585 n07729142 n07729828 n07757753 n07905296 n07914128 n07914887 n07930554 n08511017 n08663703 n09495962 n09779280 n10027246 n10097477 n10104888 n10107303 n10117851 n10236842 n10419630 n10456696 n10498699 n11685091 n11695974 n11779300 n12351790 n12588320 n12766869 '"
      ]
     },
     "execution_count": 8,
     "metadata": {},
     "output_type": "execute_result"
    }
   ],
   "source": [
    "print(f'This {nr_ood} classes below have lch similarity of max 1.35:')\n",
    "ood_synset_ids_str"
   ]
  },
  {
   "cell_type": "code",
   "execution_count": 22,
   "metadata": {},
   "outputs": [
    {
     "data": {
      "text/plain": [
       "dict_values([1, 1, 1, 1, 1, 1, 1, 1, 1, 1, 1, 1, 1, 1, 1, 1, 1, 1, 1, 1, 1, 1, 1, 1, 1, 1, 1, 1, 1, 1, 1, 1, 1, 1, 1, 1, 1, 1, 1, 1, 1, 1, 1, 1, 1, 1, 1, 1, 1, 1, 1, 1, 1, 1, 1, 1, 1, 1, 1, 1, 1, 1, 1, 1, 1, 1, 1, 1, 1, 1, 1, 1, 1, 1, 1, 1, 1, 1, 1, 1, 1, 1, 1, 1, 1, 1, 1, 1, 1, 1, 1, 1, 1, 1, 1, 1, 1, 1, 1, 1, 1, 1, 1, 1, 1, 1, 1, 1, 1, 1, 1, 1, 1, 1, 1, 1, 1, 1, 1, 1, 1, 1, 1, 1, 1, 1, 1, 1, 1, 1, 1, 1, 1, 1, 1, 1, 1, 1, 1, 1, 1, 1, 1, 1, 1, 1, 1])"
      ]
     },
     "execution_count": 22,
     "metadata": {},
     "output_type": "execute_result"
    }
   ],
   "source": [
    "from collections import Counter\n",
    "test = ood_synset_ids_str.split(' ')\n",
    "\n",
    "\n",
    "Counter(test).keys() # equals to list(set(words))\n",
    "Counter(test).values()"
   ]
  },
  {
   "cell_type": "code",
   "execution_count": 5,
   "metadata": {},
   "outputs": [],
   "source": [
    "import numpy as np\n",
    "import torch"
   ]
  },
  {
   "cell_type": "code",
   "execution_count": 34,
   "metadata": {},
   "outputs": [
    {
     "name": "stdout",
     "output_type": "stream",
     "text": [
      "tensor([[1, 2, 3, 4],\n",
      "        [5, 3, 7, 3]])\n"
     ]
    },
    {
     "data": {
      "text/plain": [
       "tensor([[0, 0, 0, 1],\n",
       "        [1, 1, 1, 0]])"
      ]
     },
     "execution_count": 34,
     "metadata": {},
     "output_type": "execute_result"
    }
   ],
   "source": [
    "a=torch.tensor([[1,2,3,4], [5,3,7,3]])\n",
    "print(a)\n",
    "maxe = torch.where(a == torch.max(a, dim=0).values, 1, 0)\n",
    "maxe"
   ]
  }
 ],
 "metadata": {
  "interpreter": {
   "hash": "0050bdc898b9a679c387244c11e8057e7ae4f22360b32a2e55d1f190f6800284"
  },
  "kernelspec": {
   "display_name": "Python 3.9.2 64-bit",
   "language": "python",
   "name": "python3"
  },
  "language_info": {
   "codemirror_mode": {
    "name": "ipython",
    "version": 3
   },
   "file_extension": ".py",
   "mimetype": "text/x-python",
   "name": "python",
   "nbconvert_exporter": "python",
   "pygments_lexer": "ipython3",
   "version": "3.9.2"
  },
  "orig_nbformat": 4
 },
 "nbformat": 4,
 "nbformat_minor": 2
}
