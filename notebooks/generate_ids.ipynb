{
 "cells": [
  {
   "cell_type": "code",
   "execution_count": 1,
   "metadata": {},
   "outputs": [],
   "source": [
    "from nltk.corpus import wordnet as wn\n",
    "import nltk\n",
    "import csv\n",
    "import time\n",
    "import random"
   ]
  },
  {
   "cell_type": "markdown",
   "metadata": {},
   "source": [
    "### 1. Download wordnet and files with class names of ImageNet-(2)1k "
   ]
  },
  {
   "cell_type": "code",
   "execution_count": 2,
   "metadata": {},
   "outputs": [
    {
     "name": "stderr",
     "output_type": "stream",
     "text": [
      "[nltk_data] Downloading package wordnet to\n",
      "[nltk_data]     /home/sepideh_mamooler_epfl_ch/nltk_data...\n",
      "[nltk_data]   Package wordnet is already up-to-date!\n"
     ]
    }
   ],
   "source": [
    "_ = nltk.download('wordnet')"
   ]
  },
  {
   "cell_type": "markdown",
   "metadata": {},
   "source": [
    "Read ids of classes in ImageNet-21k and ImageNet-1k."
   ]
  },
  {
   "cell_type": "code",
   "execution_count": 3,
   "metadata": {},
   "outputs": [],
   "source": [
    "# Read synset ids and names of classes in ImageNet-21k\n",
    "synset_ids_21k = []\n",
    "class_names_21k = []\n",
    "with open('../classes_imagenet/classes_in_imagenet_21k.csv', newline='') as csvfile:\n",
    "    csv_reader = csv.reader(csvfile)\n",
    "    next(csv_reader) # skip first line\n",
    "    for row in csv_reader:\n",
    "        synset_ids_21k.append(row[0])  # e.g. 'n00004475'\n",
    "        class_names_21k.append(row[1].replace(' ', '_')) # e.g. 'organism'"
   ]
  },
  {
   "cell_type": "code",
   "execution_count": 4,
   "metadata": {},
   "outputs": [],
   "source": [
    "# Read synset ids and names of classes in ImageNet-1k\n",
    "synset_ids_1k = []\n",
    "class_names_1k = []\n",
    "with open('../classes_imagenet/classes_in_imagenet_1k.csv', newline='') as csvfile:\n",
    "    csv_reader = csv.reader(csvfile)\n",
    "    i = 0\n",
    "    for row in csv_reader:\n",
    "        class_id = row[0].split(':')[0]\n",
    "        synset_ids_1k.append(class_id)\n",
    "        class_name = row[0].split(':')[1].split(',')[0].replace(' ', '_')[1:]\n",
    "        class_names_1k.append(class_name)"
   ]
  },
  {
   "cell_type": "markdown",
   "metadata": {},
   "source": [
    "### 2. Generate synset_ids for out-of-distribution classes "
   ]
  },
  {
   "cell_type": "code",
   "execution_count": 5,
   "metadata": {},
   "outputs": [],
   "source": [
    "def is_far_from_1k(category, class_names_1k, thresh=0.1):\n",
    "    #print('Checking if {} is far from ImageNet-1k'.format(category))\n",
    "    obj1 = wn.synsets(category)[0]\n",
    "    for some_class in class_names_1k:\n",
    "        if some_class:\n",
    "            obj2 = wn.synsets(some_class)[0]\n",
    "            #if obj1.path_similarity(obj2) > thresh: \n",
    "            if obj1.lch_similarity(obj2) > thresh:\n",
    "                #print('Nope')\n",
    "                return False\n",
    "    #print('Yes!')\n",
    "    return True"
   ]
  },
  {
   "cell_type": "markdown",
   "metadata": {},
   "source": [
    "Generate random synset_ids from synset_ids_21k which are not in synset_ids_1k and with minimum path distance to all 1k classes in ImageNet-1k."
   ]
  },
  {
   "cell_type": "code",
   "execution_count": 6,
   "metadata": {},
   "outputs": [
    {
     "name": "stdout",
     "output_type": "stream",
     "text": [
      "2000\n",
      "4000\n",
      "6000\n",
      "8000\n",
      "10000\n",
      "12000\n",
      "14000\n",
      "16000\n",
      "18000\n",
      "20000\n",
      "Done generating 20841 OOD classes after 300.13 seconds!\n"
     ]
    }
   ],
   "source": [
    "nr_ood_classes = len(synset_ids_21k) - len(synset_ids_1k) # 200 # int(sys.argv[1])\n",
    "ood_synset_ids_str = ''\n",
    "nr_ood = 0\n",
    "\n",
    "i = 0\n",
    "start = time.time()\n",
    "while i < nr_ood_classes:\n",
    "    # random_idx = random.randint(0, max_id)\n",
    "    # random_synset_id = synset_ids_21k[random_idx]\n",
    "    # random_synset_name = class_names_21k[random_idx]\n",
    "    ood_synset_id = synset_ids_21k[i]\n",
    "    ood_class_name = class_names_21k[i]\n",
    "    is_far_from_color = wn.synsets(ood_class_name)[0].lch_similarity(wn.synsets('color')[0]) < 1.5\n",
    "    if ood_synset_id not in synset_ids_1k and is_far_from_1k(ood_class_name, class_names_1k, thresh=1.5) and is_far_from_color:\n",
    "        ood_synset_ids_str += ood_synset_id + ' '\n",
    "        nr_ood += 1\n",
    "    i += 1\n",
    "    if i % 2000 == 0:\n",
    "        print(i)\n",
    "\n",
    "end = time.time()\n",
    "print('Done generating {} OOD classes after {:.2f} seconds!'.format(nr_ood_classes, end-start))"
   ]
  },
  {
   "cell_type": "code",
   "execution_count": 7,
   "metadata": {},
   "outputs": [
    {
     "data": {
      "text/plain": [
       "314"
      ]
     },
     "execution_count": 7,
     "metadata": {},
     "output_type": "execute_result"
    }
   ],
   "source": [
    "nr_ood"
   ]
  },
  {
   "cell_type": "markdown",
   "metadata": {},
   "source": [
    "### 3. Generate in-distribution (ID) synset_ids "
   ]
  },
  {
   "cell_type": "markdown",
   "metadata": {},
   "source": [
    "Generate random synset_ids from ImageNet-1k. This will be the in-distribution data used."
   ]
  },
  {
   "cell_type": "code",
   "execution_count": 13,
   "metadata": {},
   "outputs": [],
   "source": [
    "nr_id_classes = 300 #int(sys.argv[2])\n",
    "id_synset_ids_str = ''\n",
    "max_id = len(synset_ids_1k)\n",
    "\n",
    "i = 0\n",
    "while i < nr_id_classes:\n",
    "    random_synset_id = synset_ids_1k[random.randint(0, max_id)]\n",
    "    id_synset_ids_str += random_synset_id + ' '\n",
    "    i += 1"
   ]
  },
  {
   "cell_type": "code",
   "execution_count": 45,
   "metadata": {},
   "outputs": [
    {
     "data": {
      "text/plain": [
       "True"
      ]
     },
     "execution_count": 45,
     "metadata": {},
     "output_type": "execute_result"
    }
   ],
   "source": [
    "# Example of how path similarity works.\n",
    "# 1\n",
    "# obj1 = wn.synsets('color')[0]\n",
    "# obj2 = wn.synsets('french_polish')[0]\n",
    "# print('The similarity between {} and {} is: {}'.format('color', 'greenish_blue', obj1.lch_similarity(obj2)))\n",
    "wn.synsets(ood_class_name)[0].lch_similarity(wn.synsets('color')[0]) < 1.5"
   ]
  },
  {
   "cell_type": "code",
   "execution_count": 38,
   "metadata": {},
   "outputs": [
    {
     "name": "stdout",
     "output_type": "stream",
     "text": [
      "The similarity between ambulance and dog is: 0.9985288301111273\n",
      "The similarity between cat and kitty is: 0.5020919437972361\n",
      "The similarity between cat and human is: 1.6916760106710724\n",
      "The similarity between cat_food and dog_food is: 2.538973871058276\n",
      "The similarity between white_rice and rice is: 2.9444389791664407\n"
     ]
    }
   ],
   "source": [
    "# Example of how path similarity works.\n",
    "# 1\n",
    "obj1 = wn.synsets('ambulance')[0]\n",
    "obj2 = wn.synsets('dog')[0]\n",
    "print('The similarity between {} and {} is: {}'.format('ambulance', 'dog', obj1.lch_similarity(obj2)))\n",
    "# 2\n",
    "obj1 = wn.synsets('cat')[0]\n",
    "obj2 = wn.synsets('kitty')[0]\n",
    "print('The similarity between {} and {} is: {}'.format('cat', 'kitty', obj1.lch_similarity(obj2)))\n",
    "# 3\n",
    "obj1 = wn.synsets('cat')[0]\n",
    "obj2 = wn.synsets('human')[0]\n",
    "print('The similarity between {} and {} is: {}'.format('cat', 'human', obj1.lch_similarity(obj2)))\n",
    "# 4\n",
    "obj1 = wn.synsets('cat_food')[0]\n",
    "obj2 = wn.synsets('dog_food')[0]\n",
    "print('The similarity between {} and {} is: {}'.format('cat_food', 'dog_food', obj1.lch_similarity(obj2)))\n",
    "# 5\n",
    "obj1 = wn.synsets('white_rice')[0]\n",
    "obj2 = wn.synsets('rice')[0]\n",
    "print('The similarity between {} and {} is: {}'.format('white_rice', 'rice', obj1.lch_similarity(obj2)))"
   ]
  },
  {
   "cell_type": "code",
   "execution_count": 8,
   "metadata": {},
   "outputs": [
    {
     "name": "stdout",
     "output_type": "stream",
     "text": [
      "This 314 classes below have similarity of max 0.1:\n"
     ]
    },
    {
     "data": {
      "text/plain": [
       "'n00440382 n00440509 n00443803 n00447540 n00454493 n00455076 n01055165 n01314388 n01319187 n01334217 n01337734 n01338685 n01339083 n01339336 n01339471 n01369358 n01369484 n01376437 n01376543 n01390763 n01392275 n01393486 n01405007 n01405616 n01441425 n01461315 n01481331 n01549886 n01557185 n01639187 n01682435 n01790398 n01803893 n01813532 n01813658 n01815036 n01832167 n01844551 n01888411 n01889520 n01909906 n01910252 n01912152 n01956344 n01997119 n02103181 n02112497 n02122298 n02124484 n02456962 n02536456 n02577041 n02662239 n02663849 n02684962 n02711237 n02730568 n02735538 n02741367 n02744844 n02761206 n02772435 n02787120 n02801450 n02802544 n02810471 n02810782 n02829596 n02856013 n02878222 n02917521 n02926591 n02982599 n03011741 n03033267 n03036149 n03042829 n03042984 n03086670 n03086868 n03126090 n03145522 n03175081 n03206602 n03252422 n03282401 n03297735 n03299406 n03317510 n03334912 n03349296 n03368352 n03382708 n03392648 n03410022 n03410147 n03410303 n03421485 n03426574 n03442487 n03462315 n03502777 n03502897 n03503097 n03503233 n03514340 n03514693 n03524976 n03537550 n03552449 n03555996 n03565710 n03573848 n03578656 n03582508 n03594148 n03644073 n03658635 n03665232 n03677766 n03683457 n03684611 n03695452 n03716228 n03733644 n03753077 n03759661 n03770316 n03803780 n03817331 n03823111 n03843092 n03856335 n03871524 n03885194 n03899100 n03901750 n03902482 n03903424 n03948242 n03963294 n03991321 n03993703 n04023249 n04024983 n04034367 n04040247 n04057673 n04072960 n04082562 n04088797 n04100519 n04114069 n04124887 n04170933 n04178190 n04196502 n04198453 n04224395 n04248851 n04264361 n04269822 n04291242 n04310604 n04314914 n04327204 n04345028 n04363991 n04368109 n04383130 n04394031 n04454908 n04476831 n04476972 n04480527 n04486934 n04502851 n04526520 n04562496 n04578559 n04591517 n04951716 n04976319 n05241485 n05242239 n05448704 n05449661 n05450617 n05451384 n05453412 n05453657 n05453815 n05454833 n05454978 n05455113 n05458173 n05468098 n05469664 n05578095 n05604434 n06209940 n06266973 n06274546 n06276697 n07577374 n07578093 n07595649 n07595751 n07596160 n07596362 n07596566 n07616590 n07643981 n07693590 n07723968 n07724078 n07724173 n07727868 n07728053 n07728181 n07728284 n07728585 n07729142 n07729828 n07745046 n07745357 n07757753 n07838551 n07840804 n07905296 n07914128 n07914887 n07927512 n07927931 n07930554 n08492461 n08511017 n08573842 n08583455 n08658309 n08658918 n08659242 n08663051 n08663703 n09300905 n09338013 n09391386 n09432990 n09495962 n09734450 n09779280 n09894445 n09917481 n09988063 n10006177 n10027246 n10051761 n10097477 n10104888 n10107303 n10117851 n10154013 n10170681 n10173410 n10212231 n10236842 n10265891 n10300500 n10313239 n10354265 n10354754 n10369699 n10377633 n10390698 n10390807 n10405540 n10419630 n10420277 n10456696 n10478827 n10488016 n10492086 n10497645 n10498699 n10504206 n10528023 n10572889 n10654827 n10676434 n10724372 n10741493 n10753182 n11448153 n11508382 n11609862 n11610047 n11610215 n11685091 n11695974 n11779300 n12351790 n12441552 n12588320 n12654857 n12655062 n12655245 n12655351 n12655498 n12655605 n12655726 n12656369 n12656528 n12725521 n12766869 '"
      ]
     },
     "execution_count": 8,
     "metadata": {},
     "output_type": "execute_result"
    }
   ],
   "source": [
    "print(f'This {nr_ood} classes below have similarity of max 0.1:')\n",
    "ood_synset_ids_str"
   ]
  },
  {
   "cell_type": "code",
   "execution_count": 22,
   "metadata": {},
   "outputs": [
    {
     "data": {
      "text/plain": [
       "dict_values([1, 1, 1, 1, 1, 1, 1, 1, 1, 1, 1, 1, 1, 1, 1, 1, 1, 1, 1, 1, 1, 1, 1, 1, 1, 1, 1, 1, 1, 1, 1, 1, 1, 1, 1, 1, 1, 1, 1, 1, 1, 1, 1, 1, 1, 1, 1, 1, 1, 1, 1, 1, 1, 1, 1, 1, 1, 1, 1, 1, 1, 1, 1, 1, 1, 1, 1, 1, 1, 1, 1, 1, 1, 1, 1, 1, 1, 1, 1, 1, 1, 1, 1, 1, 1, 1, 1, 1, 1, 1, 1, 1, 1, 1, 1, 1, 1, 1, 1, 1, 1, 1, 1, 1, 1, 1, 1, 1, 1, 1, 1, 1, 1, 1, 1, 1, 1, 1, 1, 1, 1, 1, 1, 1, 1, 1, 1, 1, 1, 1, 1, 1, 1, 1, 1, 1, 1, 1, 1, 1, 1, 1, 1, 1, 1, 1, 1])"
      ]
     },
     "execution_count": 22,
     "metadata": {},
     "output_type": "execute_result"
    }
   ],
   "source": [
    "from collections import Counter\n",
    "test = ood_synset_ids_str.split(' ')\n",
    "\n",
    "\n",
    "Counter(test).keys() # equals to list(set(words))\n",
    "Counter(test).values()"
   ]
  }
 ],
 "metadata": {
  "interpreter": {
   "hash": "d4d1e4263499bec80672ea0156c357c1ee493ec2b1c70f0acce89fc37c4a6abe"
  },
  "kernelspec": {
   "display_name": "Python 3.7.12 64-bit ('base': conda)",
   "name": "python3"
  },
  "language_info": {
   "codemirror_mode": {
    "name": "ipython",
    "version": 3
   },
   "file_extension": ".py",
   "mimetype": "text/x-python",
   "name": "python",
   "nbconvert_exporter": "python",
   "pygments_lexer": "ipython3",
   "version": "3.7.12"
  },
  "orig_nbformat": 4
 },
 "nbformat": 4,
 "nbformat_minor": 2
}
