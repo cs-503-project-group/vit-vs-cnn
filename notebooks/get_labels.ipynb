{
 "cells": [
  {
   "cell_type": "markdown",
   "metadata": {},
   "source": [
    "### Parse labels of ImageNet-1k\n",
    "In this file, we parse a file with the labels of each of the 50_000 validation images of ImageNet-1k."
   ]
  },
  {
   "cell_type": "code",
   "execution_count": 23,
   "metadata": {},
   "outputs": [],
   "source": [
    "import json\n",
    "from pathlib import Path\n",
    "import os\n",
    "\n",
    "labels = {}\n",
    "file = '../classes_imagenet/ILSVRC2012_validation_ground_truth.txt'\n",
    "with open(file) as txtfile:\n",
    "    lines = txtfile.readlines()\n",
    "    img_nr = 1\n",
    "    for line in lines:\n",
    "        label_nr = line.rstrip('\\n')\n",
    "        img_name = 'ILSVRC2012_val_' + (8 - len(str(img_nr))) * '0' + str(img_nr)\n",
    "        labels[img_name] = int(label_nr)\n",
    "        img_nr += 1\n",
    "\n",
    "labels_file = Path('../classes_imagenet/ground_truth_labels_validation_1k.json')\n",
    "if labels_file.is_file():\n",
    "     os.remove(labels_file)\n",
    "with open(labels_file, 'w') as fp:\n",
    "    json.dump(labels, fp)\n",
    "\n",
    "   \n",
    "\n"
   ]
  },
  {
   "cell_type": "code",
   "execution_count": 16,
   "metadata": {},
   "outputs": [
    {
     "data": {
      "text/plain": [
       "'aaaaab'"
      ]
     },
     "execution_count": 16,
     "metadata": {},
     "output_type": "execute_result"
    }
   ],
   "source": []
  }
 ],
 "metadata": {
  "interpreter": {
   "hash": "0050bdc898b9a679c387244c11e8057e7ae4f22360b32a2e55d1f190f6800284"
  },
  "kernelspec": {
   "display_name": "Python 3.9.2 64-bit",
   "language": "python",
   "name": "python3"
  },
  "language_info": {
   "codemirror_mode": {
    "name": "ipython",
    "version": 3
   },
   "file_extension": ".py",
   "mimetype": "text/x-python",
   "name": "python",
   "nbconvert_exporter": "python",
   "pygments_lexer": "ipython3",
   "version": "3.9.2"
  },
  "orig_nbformat": 4
 },
 "nbformat": 4,
 "nbformat_minor": 2
}
